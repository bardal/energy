{
 "cells": [
  {
   "cell_type": "code",
   "execution_count": 35,
   "metadata": {},
   "outputs": [],
   "source": [
    "%matplotlib widget"
   ]
  },
  {
   "cell_type": "code",
   "execution_count": 36,
   "metadata": {},
   "outputs": [],
   "source": [
    "import http.client\n",
    "import requests\n",
    "import datetime\n",
    "import pandas as pd"
   ]
  },
  {
   "cell_type": "code",
   "execution_count": 37,
   "metadata": {},
   "outputs": [],
   "source": [
    "import matplotlib.pyplot as plt\n",
    "#plt.rcParams['figure.figsize'] = (10.0, 10.0)\n",
    "#import seaborn as sns\n",
    "#sns.set_context('talk')\n",
    "#sns.set_style(\"darkgrid\")\n"
   ]
  },
  {
   "cell_type": "code",
   "execution_count": 38,
   "metadata": {},
   "outputs": [],
   "source": [
    "def ms_timestamp(dt):\n",
    "    return int(dt.timestamp()*1000)"
   ]
  },
  {
   "cell_type": "code",
   "execution_count": 39,
   "metadata": {
    "tags": []
   },
   "outputs": [
    {
     "name": "stdout",
     "output_type": "stream",
     "text": [
      "200\n",
      "{'Date': 'Wed, 31 Mar 2021 17:01:10 GMT', 'Server': 'Apache/2.4.38 (Raspbian)', 'Vary': 'Accept-Encoding', 'Content-Encoding': 'gzip', 'Content-Length': '24822', 'Keep-Alive': 'timeout=5, max=100', 'Connection': 'Keep-Alive', 'Content-Type': 'application/json'}\n",
      "[[1616950870000,177],[1616950930000,177],[1616950990000,177],[1616951050000,177],[1616951110000,177]\n"
     ]
    }
   ],
   "source": [
    "with open('emoncms.key') as f: key=f.read()\n",
    "\n",
    "end = datetime.datetime.now()\n",
    "start = end - datetime.timedelta(days=3)\n",
    "\n",
    "reqmap = {\n",
    "    'apikey' : key,\n",
    "    'id' : 2,\n",
    "    'start' : ms_timestamp(start),\n",
    "    'end' : ms_timestamp(end),\n",
    "    'interval' : 60\n",
    "}\n",
    "\n",
    "url = 'http://emonpi/feed/data.json'\n",
    "response = requests.get(url, reqmap)\n",
    "\n",
    "print(response.status_code)\n",
    "print(response.headers)\n",
    "print(response.text[:100])\n",
    "\n"
   ]
  },
  {
   "cell_type": "code",
   "execution_count": 40,
   "metadata": {},
   "outputs": [
    {
     "data": {
      "text/html": [
       "<div>\n",
       "<style scoped>\n",
       "    .dataframe tbody tr th:only-of-type {\n",
       "        vertical-align: middle;\n",
       "    }\n",
       "\n",
       "    .dataframe tbody tr th {\n",
       "        vertical-align: top;\n",
       "    }\n",
       "\n",
       "    .dataframe thead th {\n",
       "        text-align: right;\n",
       "    }\n",
       "</style>\n",
       "<table border=\"1\" class=\"dataframe\">\n",
       "  <thead>\n",
       "    <tr style=\"text-align: right;\">\n",
       "      <th></th>\n",
       "      <th>Wh</th>\n",
       "    </tr>\n",
       "    <tr>\n",
       "      <th>Time</th>\n",
       "      <th></th>\n",
       "    </tr>\n",
       "  </thead>\n",
       "  <tbody>\n",
       "    <tr>\n",
       "      <th>2021-03-28 18:01:10</th>\n",
       "      <td>177.0</td>\n",
       "    </tr>\n",
       "    <tr>\n",
       "      <th>2021-03-28 18:02:10</th>\n",
       "      <td>177.0</td>\n",
       "    </tr>\n",
       "    <tr>\n",
       "      <th>2021-03-28 18:03:10</th>\n",
       "      <td>177.0</td>\n",
       "    </tr>\n",
       "    <tr>\n",
       "      <th>2021-03-28 18:04:10</th>\n",
       "      <td>177.0</td>\n",
       "    </tr>\n",
       "    <tr>\n",
       "      <th>2021-03-28 18:05:10</th>\n",
       "      <td>177.0</td>\n",
       "    </tr>\n",
       "    <tr>\n",
       "      <th>...</th>\n",
       "      <td>...</td>\n",
       "    </tr>\n",
       "    <tr>\n",
       "      <th>2021-03-31 18:00:47</th>\n",
       "      <td>90128.0</td>\n",
       "    </tr>\n",
       "    <tr>\n",
       "      <th>2021-03-31 18:00:52</th>\n",
       "      <td>90131.0</td>\n",
       "    </tr>\n",
       "    <tr>\n",
       "      <th>2021-03-31 18:00:58</th>\n",
       "      <td>90135.0</td>\n",
       "    </tr>\n",
       "    <tr>\n",
       "      <th>2021-03-31 18:01:02</th>\n",
       "      <td>90138.0</td>\n",
       "    </tr>\n",
       "    <tr>\n",
       "      <th>2021-03-31 18:01:08</th>\n",
       "      <td>90142.0</td>\n",
       "    </tr>\n",
       "  </tbody>\n",
       "</table>\n",
       "<p>4354 rows × 1 columns</p>\n",
       "</div>"
      ],
      "text/plain": [
       "                          Wh\n",
       "Time                        \n",
       "2021-03-28 18:01:10    177.0\n",
       "2021-03-28 18:02:10    177.0\n",
       "2021-03-28 18:03:10    177.0\n",
       "2021-03-28 18:04:10    177.0\n",
       "2021-03-28 18:05:10    177.0\n",
       "...                      ...\n",
       "2021-03-31 18:00:47  90128.0\n",
       "2021-03-31 18:00:52  90131.0\n",
       "2021-03-31 18:00:58  90135.0\n",
       "2021-03-31 18:01:02  90138.0\n",
       "2021-03-31 18:01:08  90142.0\n",
       "\n",
       "[4354 rows x 1 columns]"
      ]
     },
     "execution_count": 40,
     "metadata": {},
     "output_type": "execute_result"
    }
   ],
   "source": [
    "df=pd.DataFrame([(datetime.datetime.fromtimestamp(t/1000), d) for t,d in response.json()], columns=['Time', 'Wh'])\n",
    "df=df.set_index('Time')\n",
    "df"
   ]
  },
  {
   "cell_type": "code",
   "execution_count": 41,
   "metadata": {},
   "outputs": [
    {
     "data": {
      "text/plain": [
       "Timedelta('0 days 00:01:00')"
      ]
     },
     "execution_count": 41,
     "metadata": {},
     "output_type": "execute_result"
    }
   ],
   "source": [
    "df.index[1] - df.index[0]"
   ]
  },
  {
   "cell_type": "code",
   "execution_count": 42,
   "metadata": {},
   "outputs": [
    {
     "data": {
      "application/vnd.jupyter.widget-view+json": {
       "model_id": "c8295cb582af447a8831bbc1e911059b",
       "version_major": 2,
       "version_minor": 0
      },
      "text/plain": [
       "Canvas(toolbar=Toolbar(toolitems=[('Home', 'Reset original view', 'home', 'home'), ('Back', 'Back to previous …"
      ]
     },
     "metadata": {},
     "output_type": "display_data"
    }
   ],
   "source": [
    "ax=df.plot()"
   ]
  },
  {
   "cell_type": "code",
   "execution_count": 43,
   "metadata": {},
   "outputs": [
    {
     "data": {
      "application/vnd.jupyter.widget-view+json": {
       "model_id": "9edd17db351f4f189af5c1b360a349bb",
       "version_major": 2,
       "version_minor": 0
      },
      "text/plain": [
       "Canvas(toolbar=Toolbar(toolitems=[('Home', 'Reset original view', 'home', 'home'), ('Back', 'Back to previous …"
      ]
     },
     "metadata": {},
     "output_type": "display_data"
    }
   ],
   "source": [
    "minute_bars = df.resample('1min').last().diff() # Wh per 1 min bar\n",
    "minute_bars = minute_bars * 60 # multiply by 60 to get Watts for each bar\n",
    "minute_bars = minute_bars / 1000 # divide by 1000 to convert to kWatts\n",
    "minute_bars = minute_bars.rename(columns={'Wh' : 'kW'})\n",
    "ax=minute_bars.plot()\n",
    "ax.set_ylabel('kWatts');"
   ]
  },
  {
   "cell_type": "code",
   "execution_count": 44,
   "metadata": {},
   "outputs": [
    {
     "data": {
      "application/vnd.jupyter.widget-view+json": {
       "model_id": "fdc45b7ef0e747d492b4ad37302ecea5",
       "version_major": 2,
       "version_minor": 0
      },
      "text/plain": [
       "Canvas(toolbar=Toolbar(toolitems=[('Home', 'Reset original view', 'home', 'home'), ('Back', 'Back to previous …"
      ]
     },
     "metadata": {},
     "output_type": "display_data"
    }
   ],
   "source": [
    "ax=minute_bars.plot.hist(bins=75)"
   ]
  },
  {
   "cell_type": "code",
   "execution_count": 45,
   "metadata": {},
   "outputs": [
    {
     "name": "stdout",
     "output_type": "stream",
     "text": [
      "Emoncms thinks we used 7.1kWh\n",
      "Meter   thinks we used 8kWh\n"
     ]
    }
   ],
   "source": [
    "#Validate against meter readings\n",
    "readings = [\n",
    "    (pd.to_datetime(\"2021-03-31 10:46:00\"), 122313),\n",
    "    (pd.to_datetime(\"2021-03-31 17:39:00\"), 122321)]\n",
    "wh1 = df.iloc[df.index.get_loc(readings[0][0], method='nearest')].Wh\n",
    "wh2 = df.iloc[df.index.get_loc(readings[1][0], method='nearest')].Wh\n",
    "\n",
    "print(f\"Emoncms thinks we used {(wh2-wh1)/1000}kWh\")\n",
    "print(f\"Meter   thinks we used {(readings[1][1]-readings[0][1])}kWh\")\n"
   ]
  },
  {
   "cell_type": "code",
   "execution_count": null,
   "metadata": {},
   "outputs": [],
   "source": []
  }
 ],
 "metadata": {
  "kernelspec": {
   "display_name": "Python 3",
   "language": "python",
   "name": "python3"
  },
  "language_info": {
   "codemirror_mode": {
    "name": "ipython",
    "version": 3
   },
   "file_extension": ".py",
   "mimetype": "text/x-python",
   "name": "python",
   "nbconvert_exporter": "python",
   "pygments_lexer": "ipython3",
   "version": "3.8.8"
  }
 },
 "nbformat": 4,
 "nbformat_minor": 2
}
