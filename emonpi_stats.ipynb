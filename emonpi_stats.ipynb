{
 "cells": [
  {
   "cell_type": "code",
   "execution_count": 68,
   "metadata": {},
   "outputs": [],
   "source": [
    "%matplotlib widget"
   ]
  },
  {
   "cell_type": "code",
   "execution_count": 69,
   "metadata": {},
   "outputs": [],
   "source": [
    "import http.client\n",
    "import requests\n",
    "import datetime\n",
    "import pandas as pd"
   ]
  },
  {
   "cell_type": "code",
   "execution_count": 70,
   "metadata": {},
   "outputs": [],
   "source": [
    "import matplotlib.pyplot as plt\n",
    "#plt.rcParams['figure.figsize'] = (10.0, 10.0)\n",
    "#import seaborn as sns\n",
    "#sns.set_context('talk')\n",
    "#sns.set_style(\"darkgrid\")\n"
   ]
  },
  {
   "cell_type": "code",
   "execution_count": 71,
   "metadata": {},
   "outputs": [],
   "source": [
    "def ms_timestamp(dt):\n",
    "    return int(dt.timestamp()*1000)"
   ]
  },
  {
   "cell_type": "code",
   "execution_count": 72,
   "metadata": {
    "tags": []
   },
   "outputs": [
    {
     "name": "stdout",
     "output_type": "stream",
     "text": [
      "200\n",
      "{'Date': 'Thu, 01 Apr 2021 21:09:16 GMT', 'Server': 'Apache/2.4.38 (Raspbian)', 'Vary': 'Accept-Encoding', 'Content-Encoding': 'gzip', 'Content-Length': '24231', 'Keep-Alive': 'timeout=5, max=100', 'Connection': 'Keep-Alive', 'Content-Type': 'application/json'}\n",
      "[[1617052156000,28097],[1617052216000,28108],[1617052276000,28119],[1617052336000,28131],[1617052396\n"
     ]
    }
   ],
   "source": [
    "with open('emoncms.key') as f: key=f.read()\n",
    "\n",
    "end = datetime.datetime.now()\n",
    "start = end - datetime.timedelta(days=3)\n",
    "\n",
    "reqmap = {\n",
    "    'apikey' : key,\n",
    "    'id' : 2,\n",
    "    'start' : ms_timestamp(start),\n",
    "    'end' : ms_timestamp(end),\n",
    "    'interval' : 60\n",
    "}\n",
    "\n",
    "url = 'http://emonpi/feed/data.json'\n",
    "response = requests.get(url, reqmap)\n",
    "\n",
    "print(response.status_code)\n",
    "print(response.headers)\n",
    "print(response.text[:100])\n",
    "\n"
   ]
  },
  {
   "cell_type": "code",
   "execution_count": 73,
   "metadata": {},
   "outputs": [
    {
     "data": {
      "text/html": [
       "<div>\n",
       "<style scoped>\n",
       "    .dataframe tbody tr th:only-of-type {\n",
       "        vertical-align: middle;\n",
       "    }\n",
       "\n",
       "    .dataframe tbody tr th {\n",
       "        vertical-align: top;\n",
       "    }\n",
       "\n",
       "    .dataframe thead th {\n",
       "        text-align: right;\n",
       "    }\n",
       "</style>\n",
       "<table border=\"1\" class=\"dataframe\">\n",
       "  <thead>\n",
       "    <tr style=\"text-align: right;\">\n",
       "      <th></th>\n",
       "      <th>Wh</th>\n",
       "    </tr>\n",
       "    <tr>\n",
       "      <th>Time</th>\n",
       "      <th></th>\n",
       "    </tr>\n",
       "  </thead>\n",
       "  <tbody>\n",
       "    <tr>\n",
       "      <th>2021-03-29 22:09:16</th>\n",
       "      <td>28097</td>\n",
       "    </tr>\n",
       "    <tr>\n",
       "      <th>2021-03-29 22:10:16</th>\n",
       "      <td>28108</td>\n",
       "    </tr>\n",
       "    <tr>\n",
       "      <th>2021-03-29 22:11:16</th>\n",
       "      <td>28119</td>\n",
       "    </tr>\n",
       "    <tr>\n",
       "      <th>2021-03-29 22:12:16</th>\n",
       "      <td>28131</td>\n",
       "    </tr>\n",
       "    <tr>\n",
       "      <th>2021-03-29 22:13:16</th>\n",
       "      <td>28141</td>\n",
       "    </tr>\n",
       "    <tr>\n",
       "      <th>...</th>\n",
       "      <td>...</td>\n",
       "    </tr>\n",
       "    <tr>\n",
       "      <th>2021-04-01 22:08:54</th>\n",
       "      <td>193504</td>\n",
       "    </tr>\n",
       "    <tr>\n",
       "      <th>2021-04-01 22:08:59</th>\n",
       "      <td>193505</td>\n",
       "    </tr>\n",
       "    <tr>\n",
       "      <th>2021-04-01 22:09:04</th>\n",
       "      <td>193507</td>\n",
       "    </tr>\n",
       "    <tr>\n",
       "      <th>2021-04-01 22:09:09</th>\n",
       "      <td>193508</td>\n",
       "    </tr>\n",
       "    <tr>\n",
       "      <th>2021-04-01 22:09:14</th>\n",
       "      <td>193509</td>\n",
       "    </tr>\n",
       "  </tbody>\n",
       "</table>\n",
       "<p>4330 rows × 1 columns</p>\n",
       "</div>"
      ],
      "text/plain": [
       "                         Wh\n",
       "Time                       \n",
       "2021-03-29 22:09:16   28097\n",
       "2021-03-29 22:10:16   28108\n",
       "2021-03-29 22:11:16   28119\n",
       "2021-03-29 22:12:16   28131\n",
       "2021-03-29 22:13:16   28141\n",
       "...                     ...\n",
       "2021-04-01 22:08:54  193504\n",
       "2021-04-01 22:08:59  193505\n",
       "2021-04-01 22:09:04  193507\n",
       "2021-04-01 22:09:09  193508\n",
       "2021-04-01 22:09:14  193509\n",
       "\n",
       "[4330 rows x 1 columns]"
      ]
     },
     "execution_count": 73,
     "metadata": {},
     "output_type": "execute_result"
    }
   ],
   "source": [
    "df=pd.DataFrame([(datetime.datetime.fromtimestamp(t/1000), d) for t,d in response.json()], columns=['Time', 'Wh'])\n",
    "df=df.set_index('Time')\n",
    "df"
   ]
  },
  {
   "cell_type": "code",
   "execution_count": 74,
   "metadata": {},
   "outputs": [
    {
     "data": {
      "text/plain": [
       "Timedelta('0 days 00:01:00')"
      ]
     },
     "execution_count": 74,
     "metadata": {},
     "output_type": "execute_result"
    }
   ],
   "source": [
    "df.index[1] - df.index[0]"
   ]
  },
  {
   "cell_type": "code",
   "execution_count": 75,
   "metadata": {},
   "outputs": [
    {
     "data": {
      "application/vnd.jupyter.widget-view+json": {
       "model_id": "24b236a761124d79b0023049716ab9d6",
       "version_major": 2,
       "version_minor": 0
      },
      "text/plain": [
       "Canvas(toolbar=Toolbar(toolitems=[('Home', 'Reset original view', 'home', 'home'), ('Back', 'Back to previous …"
      ]
     },
     "metadata": {},
     "output_type": "display_data"
    }
   ],
   "source": [
    "ax=df.plot()"
   ]
  },
  {
   "cell_type": "code",
   "execution_count": 76,
   "metadata": {},
   "outputs": [
    {
     "data": {
      "application/vnd.jupyter.widget-view+json": {
       "model_id": "c58f289d11474009ac1e9a40d7dc79b7",
       "version_major": 2,
       "version_minor": 0
      },
      "text/plain": [
       "Canvas(toolbar=Toolbar(toolitems=[('Home', 'Reset original view', 'home', 'home'), ('Back', 'Back to previous …"
      ]
     },
     "metadata": {},
     "output_type": "display_data"
    }
   ],
   "source": [
    "minute_bars = df.resample('1min').last().diff() # Wh per 1 min bar\n",
    "minute_bars = minute_bars * 60 # multiply by 60 to get Watts for each bar\n",
    "minute_bars = minute_bars / 1000 # divide by 1000 to convert to kWatts\n",
    "minute_bars = minute_bars.rename(columns={'Wh' : 'kW'})\n",
    "ax=minute_bars.plot()\n",
    "ax.set_ylabel('kWatts');"
   ]
  },
  {
   "cell_type": "code",
   "execution_count": 77,
   "metadata": {},
   "outputs": [
    {
     "data": {
      "application/vnd.jupyter.widget-view+json": {
       "model_id": "6664f298a49343759523f9ee28aaf80d",
       "version_major": 2,
       "version_minor": 0
      },
      "text/plain": [
       "Canvas(toolbar=Toolbar(toolitems=[('Home', 'Reset original view', 'home', 'home'), ('Back', 'Back to previous …"
      ]
     },
     "metadata": {},
     "output_type": "display_data"
    }
   ],
   "source": [
    "ax=minute_bars.plot.hist(bins=75)"
   ]
  },
  {
   "cell_type": "code",
   "execution_count": 78,
   "metadata": {},
   "outputs": [
    {
     "name": "stdout",
     "output_type": "stream",
     "text": [
      "Emoncms thinks we used 7.1kWh\n",
      "Meter   thinks we used 8kWh\n"
     ]
    }
   ],
   "source": [
    "#Validate against meter readings\n",
    "readings = [\n",
    "    (pd.to_datetime(\"2021-03-31 10:46:00\"), 122313),\n",
    "    (pd.to_datetime(\"2021-03-31 17:39:00\"), 122321)]\n",
    "wh1 = df.iloc[df.index.get_loc(readings[0][0], method='nearest')].Wh\n",
    "wh2 = df.iloc[df.index.get_loc(readings[1][0], method='nearest')].Wh\n",
    "\n",
    "print(f\"Emoncms thinks we used {(wh2-wh1)/1000}kWh\")\n",
    "print(f\"Meter   thinks we used {(readings[1][1]-readings[0][1])}kWh\")\n"
   ]
  },
  {
   "cell_type": "code",
   "execution_count": null,
   "metadata": {},
   "outputs": [],
   "source": []
  }
 ],
 "metadata": {
  "kernelspec": {
   "display_name": "Python 3",
   "language": "python",
   "name": "python3"
  },
  "language_info": {
   "codemirror_mode": {
    "name": "ipython",
    "version": 3
   },
   "file_extension": ".py",
   "mimetype": "text/x-python",
   "name": "python",
   "nbconvert_exporter": "python",
   "pygments_lexer": "ipython3",
   "version": "3.8.8"
  }
 },
 "nbformat": 4,
 "nbformat_minor": 2
}
